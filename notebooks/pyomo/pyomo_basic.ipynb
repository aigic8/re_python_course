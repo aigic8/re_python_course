{
 "cells": [
  {
   "cell_type": "code",
   "execution_count": 10,
   "metadata": {},
   "outputs": [],
   "source": [
    "# pip install pyomo\n",
    "import pyomo.environ as pyomo\n",
    "import pandas as pd\n",
    "import numpy as np"
   ]
  },
  {
   "cell_type": "code",
   "execution_count": 2,
   "metadata": {},
   "outputs": [
    {
     "data": {
      "text/html": [
       "<div>\n",
       "<style scoped>\n",
       "    .dataframe tbody tr th:only-of-type {\n",
       "        vertical-align: middle;\n",
       "    }\n",
       "\n",
       "    .dataframe tbody tr th {\n",
       "        vertical-align: top;\n",
       "    }\n",
       "\n",
       "    .dataframe thead th {\n",
       "        text-align: right;\n",
       "    }\n",
       "</style>\n",
       "<table border=\"1\" class=\"dataframe\">\n",
       "  <thead>\n",
       "    <tr style=\"text-align: right;\">\n",
       "      <th></th>\n",
       "      <th>demand</th>\n",
       "    </tr>\n",
       "    <tr>\n",
       "      <th>t</th>\n",
       "      <th></th>\n",
       "    </tr>\n",
       "  </thead>\n",
       "  <tbody>\n",
       "    <tr>\n",
       "      <th>0</th>\n",
       "      <td>201.644164</td>\n",
       "    </tr>\n",
       "    <tr>\n",
       "      <th>1</th>\n",
       "      <td>201.394918</td>\n",
       "    </tr>\n",
       "    <tr>\n",
       "      <th>2</th>\n",
       "      <td>201.985554</td>\n",
       "    </tr>\n",
       "    <tr>\n",
       "      <th>3</th>\n",
       "      <td>201.325092</td>\n",
       "    </tr>\n",
       "    <tr>\n",
       "      <th>4</th>\n",
       "      <td>200.392689</td>\n",
       "    </tr>\n",
       "    <tr>\n",
       "      <th>...</th>\n",
       "      <td>...</td>\n",
       "    </tr>\n",
       "    <tr>\n",
       "      <th>360</th>\n",
       "      <td>201.873386</td>\n",
       "    </tr>\n",
       "    <tr>\n",
       "      <th>361</th>\n",
       "      <td>200.359180</td>\n",
       "    </tr>\n",
       "    <tr>\n",
       "      <th>362</th>\n",
       "      <td>200.992932</td>\n",
       "    </tr>\n",
       "    <tr>\n",
       "      <th>363</th>\n",
       "      <td>201.378632</td>\n",
       "    </tr>\n",
       "    <tr>\n",
       "      <th>364</th>\n",
       "      <td>201.648416</td>\n",
       "    </tr>\n",
       "  </tbody>\n",
       "</table>\n",
       "<p>365 rows × 1 columns</p>\n",
       "</div>"
      ],
      "text/plain": [
       "         demand\n",
       "t              \n",
       "0    201.644164\n",
       "1    201.394918\n",
       "2    201.985554\n",
       "3    201.325092\n",
       "4    200.392689\n",
       "..          ...\n",
       "360  201.873386\n",
       "361  200.359180\n",
       "362  200.992932\n",
       "363  201.378632\n",
       "364  201.648416\n",
       "\n",
       "[365 rows x 1 columns]"
      ]
     },
     "execution_count": 2,
     "metadata": {},
     "output_type": "execute_result"
    }
   ],
   "source": [
    "SIZE = 365\n",
    "GRID_BUY_PRICE = 0.3\n",
    "\n",
    "INPUT_DEMAND = \"../../data/demand.csv\"\n",
    "\n",
    "df = pd.read_csv(INPUT_DEMAND, index_col=\"t\")\n",
    "df"
   ]
  },
  {
   "cell_type": "code",
   "execution_count": 3,
   "metadata": {},
   "outputs": [],
   "source": [
    "# 1. Creating a model ##################\n",
    "model = pyomo.ConcreteModel()"
   ]
  },
  {
   "cell_type": "code",
   "execution_count": 4,
   "metadata": {},
   "outputs": [],
   "source": [
    "# 2. Setting Parameters ################\n",
    "model.T = pyomo.Set(initialize=range(len(df)))\n",
    "model.grid_buy_price = pyomo.Param(initialize=GRID_BUY_PRICE)\n",
    "demand_dict = {}\n",
    "for i, item in enumerate(df[\"demand\"]):\n",
    "    demand_dict[i] = item\n",
    "model.demand = pyomo.Param(model.T, initialize=demand_dict)\n"
   ]
  },
  {
   "cell_type": "code",
   "execution_count": 5,
   "metadata": {},
   "outputs": [],
   "source": [
    "# 3. Setting Variables #################\n",
    "model.v_po_grid = pyomo.Var(model.T, domain=pyomo.PositiveReals)"
   ]
  },
  {
   "cell_type": "code",
   "execution_count": 6,
   "metadata": {},
   "outputs": [],
   "source": [
    "# 4. Setting Constraints ###############\n",
    "\n",
    "\n",
    "def demand_supply_rule(model, t):\n",
    "    return model.demand[t] <= model.v_po_grid[t]\n",
    "\n",
    "\n",
    "model.c_demand_supply = pyomo.Constraint(model.T, rule=demand_supply_rule)"
   ]
  },
  {
   "cell_type": "code",
   "execution_count": 7,
   "metadata": {},
   "outputs": [],
   "source": [
    "# 5. Setting Object Function ###########\n",
    "def objective_function(model):\n",
    "    cost_arr = [0] * len(df)\n",
    "    for t in model.T:\n",
    "        cost_arr[t] = model.grid_buy_price * model.v_po_grid[t]\n",
    "    return sum(cost_arr)\n",
    "\n",
    "\n",
    "model.obj = pyomo.Objective(rule=objective_function)"
   ]
  },
  {
   "cell_type": "code",
   "execution_count": 8,
   "metadata": {},
   "outputs": [
    {
     "data": {
      "text/plain": [
       "{'Problem': [{'Name': 'unknown', 'Lower bound': 22009.53628, 'Upper bound': 22009.53628, 'Number of objectives': 1, 'Number of constraints': 365, 'Number of variables': 365, 'Number of nonzeros': 0, 'Sense': 'minimize'}], 'Solver': [{'Status': 'ok', 'User time': -1.0, 'System time': 0.0, 'Wallclock time': 0.01, 'Termination condition': 'optimal', 'Termination message': 'Model was solved to optimality (subject to tolerances), and an optimal solution is available.', 'Statistics': {'Branch and bound': {'Number of bounded subproblems': None, 'Number of created subproblems': None}, 'Black box': {'Number of iterations': 0}}, 'Error rc': 0, 'Time': 0.0222318172454834}], 'Solution': [OrderedDict({'number of solutions': 0, 'number of solutions displayed': 0})]}"
      ]
     },
     "execution_count": 8,
     "metadata": {},
     "output_type": "execute_result"
    }
   ],
   "source": [
    "# 6. Making a Solver and Running the model #\n",
    "solver = pyomo.SolverFactory(\"cbc\")\n",
    "result = solver.solve(model)\n",
    "result\n"
   ]
  },
  {
   "cell_type": "code",
   "execution_count": 11,
   "metadata": {},
   "outputs": [
    {
     "data": {
      "text/plain": [
       "array([201.64416, 201.39492, 201.98555, 201.32509, 200.39269, 200.71921,\n",
       "       200.51185, 200.87285, 200.99202, 200.45958, 200.07116, 201.99014,\n",
       "       200.04897, 200.3358 , 200.08825, 201.65064, 201.28303, 200.65562,\n",
       "       201.15456, 201.618  , 201.1167 , 201.46754, 200.49645, 201.32469,\n",
       "       200.00971, 201.20106, 200.36338, 200.93746, 201.99675, 201.55129,\n",
       "       200.94047, 200.63714, 201.75854, 201.57645, 200.72813, 200.29569,\n",
       "       201.55983, 200.59918, 200.21365, 200.62206, 200.07756, 201.09746,\n",
       "       201.23266, 200.74207, 201.6425 , 201.85578, 200.09746, 200.91933,\n",
       "       201.42053, 200.47849, 200.45282, 201.30816, 201.99487, 200.66833,\n",
       "       201.13662, 200.20115, 200.63824, 201.25097, 201.73001, 201.13026,\n",
       "       201.87526, 200.95907, 201.24389, 201.28018, 201.35323, 200.4509 ,\n",
       "       201.29219, 200.84098, 200.10276, 201.12009, 200.25207, 200.31448,\n",
       "       200.77623, 200.41779, 201.35505, 200.27115, 201.50669, 200.1593 ,\n",
       "       200.72532, 201.97975, 200.89991, 200.83836, 200.58195, 200.34447,\n",
       "       201.65119, 200.32143, 200.50961, 201.13341, 201.40285, 201.06888,\n",
       "       201.23418, 200.84635, 201.5892 , 201.34815, 201.20462, 200.62689,\n",
       "       200.27705, 200.74767, 200.98746, 201.04518, 200.58293, 201.32225,\n",
       "       201.87798, 201.47406, 200.81487, 201.0363 , 200.65912, 200.72709,\n",
       "       201.40134, 201.89333, 200.8441 , 200.8567 , 200.85342, 200.66976,\n",
       "       201.55597, 200.68998, 200.45942, 201.68796, 201.77303, 200.97263,\n",
       "       201.77364, 200.62645, 200.65745, 200.16244, 201.44261, 200.06038,\n",
       "       201.89169, 201.88555, 201.16123, 201.84394, 201.86121, 201.8155 ,\n",
       "       200.63215, 201.98097, 200.60888, 201.82828, 200.26808, 201.79094,\n",
       "       200.77906, 200.02318, 200.10621, 201.53152, 200.25961, 200.94395,\n",
       "       200.13126, 201.09613, 201.76309, 201.37197, 200.75448, 201.4941 ,\n",
       "       200.675  , 201.15185, 201.93695, 201.07784, 201.93255, 200.90975,\n",
       "       200.60362, 200.73278, 200.95971, 200.75473, 201.97653, 201.83159,\n",
       "       201.60665, 201.73571, 200.27678, 201.4432 , 200.52005, 201.97367,\n",
       "       201.2904 , 201.79401, 201.63677, 201.3242 , 200.4599 , 201.629  ,\n",
       "       200.42744, 201.50987, 200.20735, 201.02668, 201.81787, 200.12916,\n",
       "       200.42942, 200.93246, 200.16881, 200.3873 , 200.60023, 201.18015,\n",
       "       200.3757 , 201.86808, 201.44211, 200.7889 , 201.2931 , 201.43638,\n",
       "       200.34293, 200.2239 , 200.93419, 201.95179, 201.49722, 200.56014,\n",
       "       200.48595, 201.62107, 200.68509, 201.83959, 201.68595, 201.32904,\n",
       "       200.00326, 200.55298, 201.94717, 200.57537, 200.27804, 201.22376,\n",
       "       201.11511, 201.66383, 200.67803, 201.08657, 200.90546, 200.60266,\n",
       "       201.71485, 201.7693 , 200.00128, 200.42082, 200.16254, 200.78078,\n",
       "       200.52251, 200.21108, 201.93618, 201.79985, 200.19835, 201.63707,\n",
       "       201.18182, 200.62397, 200.76745, 200.08309, 200.40543, 201.5952 ,\n",
       "       200.90041, 200.82529, 200.34487, 201.44763, 200.3643 , 201.11712,\n",
       "       200.33015, 201.87607, 200.82741, 200.23159, 201.86097, 200.73172,\n",
       "       200.42991, 200.60598, 200.86355, 200.65993, 201.23001, 201.39756,\n",
       "       200.95367, 200.93628, 201.13216, 201.70219, 200.28987, 200.18771,\n",
       "       200.8893 , 201.72276, 200.23671, 201.9175 , 201.75849, 201.2897 ,\n",
       "       200.63225, 200.3582 , 201.9262 , 201.73574, 200.21469, 200.93071,\n",
       "       200.76752, 201.22538, 200.96177, 200.20589, 200.84089, 200.64351,\n",
       "       200.32771, 200.11929, 201.05476, 201.86814, 201.62867, 201.0458 ,\n",
       "       201.31711, 201.47907, 201.29653, 200.33627, 201.53023, 201.92045,\n",
       "       201.11829, 201.25642, 200.73439, 200.35862, 201.7486 , 200.64175,\n",
       "       201.68842, 201.18657, 201.9334 , 200.05045, 200.44367, 201.78317,\n",
       "       201.08914, 200.47874, 201.08273, 200.1733 , 200.49789, 200.56805,\n",
       "       201.59726, 201.24037, 200.37835, 200.92713, 201.49808, 200.49901,\n",
       "       200.12334, 200.42495, 201.783  , 201.55729, 200.95784, 200.91282,\n",
       "       200.36472, 201.25497, 200.12169, 200.99851, 200.28369, 200.17357,\n",
       "       201.34847, 201.57127, 201.33083, 201.78143, 201.40566, 201.41365,\n",
       "       201.3743 , 200.15844, 201.03413, 201.67707, 201.84407, 200.15072,\n",
       "       201.3539 , 200.31074, 200.31974, 200.79095, 200.14302, 201.18181,\n",
       "       200.63188, 200.97915, 201.55403, 200.15669, 201.38215, 201.15928,\n",
       "       201.38866, 201.6499 , 200.75532, 201.12127, 201.7036 , 200.69216,\n",
       "       200.22753, 201.7234 , 200.17351, 200.26557, 201.73441, 200.86808,\n",
       "       201.87339, 200.35918, 200.99293, 201.37863, 201.64842])"
      ]
     },
     "execution_count": 11,
     "metadata": {},
     "output_type": "execute_result"
    }
   ],
   "source": [
    "grid_power = np.zeros(len(df))\n",
    "for t in model.T:\n",
    "    grid_power[t] = model.v_po_grid[t]()\n",
    "grid_power"
   ]
  },
  {
   "cell_type": "code",
   "execution_count": 12,
   "metadata": {},
   "outputs": [
    {
     "data": {
      "text/html": [
       "<div>\n",
       "<style scoped>\n",
       "    .dataframe tbody tr th:only-of-type {\n",
       "        vertical-align: middle;\n",
       "    }\n",
       "\n",
       "    .dataframe tbody tr th {\n",
       "        vertical-align: top;\n",
       "    }\n",
       "\n",
       "    .dataframe thead th {\n",
       "        text-align: right;\n",
       "    }\n",
       "</style>\n",
       "<table border=\"1\" class=\"dataframe\">\n",
       "  <thead>\n",
       "    <tr style=\"text-align: right;\">\n",
       "      <th></th>\n",
       "      <th>demand</th>\n",
       "      <th>grid_power</th>\n",
       "    </tr>\n",
       "    <tr>\n",
       "      <th>t</th>\n",
       "      <th></th>\n",
       "      <th></th>\n",
       "    </tr>\n",
       "  </thead>\n",
       "  <tbody>\n",
       "    <tr>\n",
       "      <th>0</th>\n",
       "      <td>201.644164</td>\n",
       "      <td>201.64416</td>\n",
       "    </tr>\n",
       "    <tr>\n",
       "      <th>1</th>\n",
       "      <td>201.394918</td>\n",
       "      <td>201.39492</td>\n",
       "    </tr>\n",
       "    <tr>\n",
       "      <th>2</th>\n",
       "      <td>201.985554</td>\n",
       "      <td>201.98555</td>\n",
       "    </tr>\n",
       "    <tr>\n",
       "      <th>3</th>\n",
       "      <td>201.325092</td>\n",
       "      <td>201.32509</td>\n",
       "    </tr>\n",
       "    <tr>\n",
       "      <th>4</th>\n",
       "      <td>200.392689</td>\n",
       "      <td>200.39269</td>\n",
       "    </tr>\n",
       "    <tr>\n",
       "      <th>...</th>\n",
       "      <td>...</td>\n",
       "      <td>...</td>\n",
       "    </tr>\n",
       "    <tr>\n",
       "      <th>360</th>\n",
       "      <td>201.873386</td>\n",
       "      <td>201.87339</td>\n",
       "    </tr>\n",
       "    <tr>\n",
       "      <th>361</th>\n",
       "      <td>200.359180</td>\n",
       "      <td>200.35918</td>\n",
       "    </tr>\n",
       "    <tr>\n",
       "      <th>362</th>\n",
       "      <td>200.992932</td>\n",
       "      <td>200.99293</td>\n",
       "    </tr>\n",
       "    <tr>\n",
       "      <th>363</th>\n",
       "      <td>201.378632</td>\n",
       "      <td>201.37863</td>\n",
       "    </tr>\n",
       "    <tr>\n",
       "      <th>364</th>\n",
       "      <td>201.648416</td>\n",
       "      <td>201.64842</td>\n",
       "    </tr>\n",
       "  </tbody>\n",
       "</table>\n",
       "<p>365 rows × 2 columns</p>\n",
       "</div>"
      ],
      "text/plain": [
       "         demand  grid_power\n",
       "t                          \n",
       "0    201.644164   201.64416\n",
       "1    201.394918   201.39492\n",
       "2    201.985554   201.98555\n",
       "3    201.325092   201.32509\n",
       "4    200.392689   200.39269\n",
       "..          ...         ...\n",
       "360  201.873386   201.87339\n",
       "361  200.359180   200.35918\n",
       "362  200.992932   200.99293\n",
       "363  201.378632   201.37863\n",
       "364  201.648416   201.64842\n",
       "\n",
       "[365 rows x 2 columns]"
      ]
     },
     "execution_count": 12,
     "metadata": {},
     "output_type": "execute_result"
    }
   ],
   "source": [
    "df = df.assign(grid_power=grid_power)\n",
    "df"
   ]
  },
  {
   "cell_type": "code",
   "execution_count": null,
   "metadata": {},
   "outputs": [],
   "source": []
  }
 ],
 "metadata": {
  "kernelspec": {
   "display_name": "venv",
   "language": "python",
   "name": "python3"
  },
  "language_info": {
   "codemirror_mode": {
    "name": "ipython",
    "version": 3
   },
   "file_extension": ".py",
   "mimetype": "text/x-python",
   "name": "python",
   "nbconvert_exporter": "python",
   "pygments_lexer": "ipython3",
   "version": "3.12.6"
  }
 },
 "nbformat": 4,
 "nbformat_minor": 2
}
