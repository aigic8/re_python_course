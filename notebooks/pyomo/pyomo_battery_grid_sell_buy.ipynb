{
 "cells": [
  {
   "cell_type": "code",
   "execution_count": 1,
   "metadata": {},
   "outputs": [],
   "source": [
    "import pyomo.environ as pyomo\n",
    "import numpy as np\n",
    "import matplotlib.pyplot as plt\n",
    "import pandas as pd"
   ]
  },
  {
   "cell_type": "code",
   "execution_count": 2,
   "metadata": {},
   "outputs": [
    {
     "data": {
      "text/html": [
       "<div>\n",
       "<style scoped>\n",
       "    .dataframe tbody tr th:only-of-type {\n",
       "        vertical-align: middle;\n",
       "    }\n",
       "\n",
       "    .dataframe tbody tr th {\n",
       "        vertical-align: top;\n",
       "    }\n",
       "\n",
       "    .dataframe thead th {\n",
       "        text-align: right;\n",
       "    }\n",
       "</style>\n",
       "<table border=\"1\" class=\"dataframe\">\n",
       "  <thead>\n",
       "    <tr style=\"text-align: right;\">\n",
       "      <th></th>\n",
       "      <th>price</th>\n",
       "      <th>input_energy</th>\n",
       "    </tr>\n",
       "    <tr>\n",
       "      <th>time</th>\n",
       "      <th></th>\n",
       "      <th></th>\n",
       "    </tr>\n",
       "  </thead>\n",
       "  <tbody>\n",
       "    <tr>\n",
       "      <th>0</th>\n",
       "      <td>0.5</td>\n",
       "      <td>0.00</td>\n",
       "    </tr>\n",
       "    <tr>\n",
       "      <th>1</th>\n",
       "      <td>0.6</td>\n",
       "      <td>0.00</td>\n",
       "    </tr>\n",
       "    <tr>\n",
       "      <th>2</th>\n",
       "      <td>1.0</td>\n",
       "      <td>0.00</td>\n",
       "    </tr>\n",
       "    <tr>\n",
       "      <th>3</th>\n",
       "      <td>1.0</td>\n",
       "      <td>0.00</td>\n",
       "    </tr>\n",
       "    <tr>\n",
       "      <th>4</th>\n",
       "      <td>0.9</td>\n",
       "      <td>0.30</td>\n",
       "    </tr>\n",
       "    <tr>\n",
       "      <th>5</th>\n",
       "      <td>1.1</td>\n",
       "      <td>0.15</td>\n",
       "    </tr>\n",
       "    <tr>\n",
       "      <th>6</th>\n",
       "      <td>1.8</td>\n",
       "      <td>0.15</td>\n",
       "    </tr>\n",
       "    <tr>\n",
       "      <th>7</th>\n",
       "      <td>1.5</td>\n",
       "      <td>0.05</td>\n",
       "    </tr>\n",
       "    <tr>\n",
       "      <th>8</th>\n",
       "      <td>0.9</td>\n",
       "      <td>0.05</td>\n",
       "    </tr>\n",
       "    <tr>\n",
       "      <th>9</th>\n",
       "      <td>0.8</td>\n",
       "      <td>0.05</td>\n",
       "    </tr>\n",
       "    <tr>\n",
       "      <th>10</th>\n",
       "      <td>0.7</td>\n",
       "      <td>0.00</td>\n",
       "    </tr>\n",
       "    <tr>\n",
       "      <th>11</th>\n",
       "      <td>1.0</td>\n",
       "      <td>0.00</td>\n",
       "    </tr>\n",
       "  </tbody>\n",
       "</table>\n",
       "</div>"
      ],
      "text/plain": [
       "      price  input_energy\n",
       "time                     \n",
       "0       0.5          0.00\n",
       "1       0.6          0.00\n",
       "2       1.0          0.00\n",
       "3       1.0          0.00\n",
       "4       0.9          0.30\n",
       "5       1.1          0.15\n",
       "6       1.8          0.15\n",
       "7       1.5          0.05\n",
       "8       0.9          0.05\n",
       "9       0.8          0.05\n",
       "10      0.7          0.00\n",
       "11      1.0          0.00"
      ]
     },
     "execution_count": 2,
     "metadata": {},
     "output_type": "execute_result"
    }
   ],
   "source": [
    "INPUT_PATH = \"../../data/prices_energy_input.csv\"\n",
    "\n",
    "df = pd.read_csv(INPUT_PATH, index_col=\"time\")\n",
    "df"
   ]
  },
  {
   "cell_type": "code",
   "execution_count": 3,
   "metadata": {},
   "outputs": [
    {
     "data": {
      "text/plain": [
       "{0: 0.5,\n",
       " 1: 0.6,\n",
       " 2: 1.0,\n",
       " 3: 1.0,\n",
       " 4: 0.9,\n",
       " 5: 1.1,\n",
       " 6: 1.8,\n",
       " 7: 1.5,\n",
       " 8: 0.9,\n",
       " 9: 0.8,\n",
       " 10: 0.7,\n",
       " 11: 1.0}"
      ]
     },
     "execution_count": 3,
     "metadata": {},
     "output_type": "execute_result"
    }
   ],
   "source": [
    "prices = {}\n",
    "for t, price in enumerate(df[\"price\"]):\n",
    "    prices[t] = price\n",
    "prices"
   ]
  },
  {
   "cell_type": "code",
   "execution_count": 4,
   "metadata": {},
   "outputs": [],
   "source": [
    "model = pyomo.ConcreteModel()"
   ]
  },
  {
   "cell_type": "code",
   "execution_count": 5,
   "metadata": {},
   "outputs": [],
   "source": [
    "# Parameters ######################\n",
    "model.T = pyomo.Set(initialize=range(len(prices)))\n",
    "\n",
    "model.soc_init = pyomo.Param(initialize=500.0)\n",
    "model.soc_max = pyomo.Param(initialize=500.0)\n",
    "model.soc_min = pyomo.Param(initialize=0.0)\n",
    "model.sell_max = pyomo.Param(initialize=150.0)\n",
    "model.input_energy_max = pyomo.Param(initialize=100)\n",
    "\n",
    "model.price = pyomo.Param(model.T, initialize=prices)"
   ]
  },
  {
   "cell_type": "code",
   "execution_count": 6,
   "metadata": {},
   "outputs": [],
   "source": [
    "# Variables #######################\n",
    "model.v_sell = pyomo.Var(model.T, domain=pyomo.NonNegativeReals)\n",
    "model.v_soc = pyomo.Var(model.T, domain=pyomo.NonNegativeReals)\n",
    "model.v_input_energy = pyomo.Var(model.T, domain=pyomo.NonNegativeReals)\n",
    "model.v_is_selling = pyomo.Var(model.T, domain=pyomo.Binary)"
   ]
  },
  {
   "cell_type": "code",
   "execution_count": 7,
   "metadata": {},
   "outputs": [],
   "source": [
    "# Constraints #####################\n",
    "def sell_max_rule(model, t):\n",
    "    return model.v_sell[t] <= model.v_is_selling[t] * model.sell_max\n",
    "\n",
    "\n",
    "def soc_max_rule(model, t):\n",
    "    return model.v_soc[t] <= model.soc_max\n",
    "\n",
    "\n",
    "def soc_min_rule(model, t):\n",
    "    return model.v_soc[t] >= model.soc_min\n",
    "\n",
    "\n",
    "def energy_equlibrium_rule(model, t):\n",
    "    if t == 0:\n",
    "        return (\n",
    "            model.soc_init + model.v_input_energy[t] - model.v_sell[t] == model.v_soc[t]\n",
    "        )\n",
    "    else:\n",
    "        return (\n",
    "            model.v_soc[t - 1] + model.v_input_energy[t] - model.v_sell[t]\n",
    "            == model.v_soc[t]\n",
    "        )\n",
    "\n",
    "\n",
    "def input_energy_max_rule(model, t):\n",
    "    return model.v_input_energy[t] <= model.input_energy_max * (\n",
    "        1 - model.v_is_selling[t]\n",
    "    )\n",
    "\n",
    "\n",
    "model.c_sell_max = pyomo.Constraint(model.T, rule=sell_max_rule)\n",
    "model.c_soc_max = pyomo.Constraint(model.T, rule=soc_max_rule)\n",
    "model.c_soc_min = pyomo.Constraint(model.T, rule=soc_min_rule)\n",
    "model.c_energy_equlibrium = pyomo.Constraint(model.T, rule=energy_equlibrium_rule)\n",
    "model.c_input_energy_max = pyomo.Constraint(model.T, rule=input_energy_max_rule)"
   ]
  },
  {
   "cell_type": "code",
   "execution_count": 8,
   "metadata": {},
   "outputs": [
    {
     "data": {
      "text/plain": [
       "{'Problem': [{'Name': 'unknown', 'Lower bound': 760.0, 'Upper bound': 760.0, 'Number of objectives': 1, 'Number of constraints': 33, 'Number of variables': 44, 'Number of binary variables': 12, 'Number of integer variables': 12, 'Number of nonzeros': 23, 'Sense': 'maximize'}], 'Solver': [{'Status': 'ok', 'User time': -1.0, 'System time': 0.0, 'Wallclock time': 0.01, 'Termination condition': 'optimal', 'Termination message': 'Model was solved to optimality (subject to tolerances), and an optimal solution is available.', 'Statistics': {'Branch and bound': {'Number of bounded subproblems': 0, 'Number of created subproblems': 0}, 'Black box': {'Number of iterations': 0}}, 'Error rc': 0, 'Time': 0.022643566131591797}], 'Solution': [OrderedDict({'number of solutions': 0, 'number of solutions displayed': 0})]}"
      ]
     },
     "execution_count": 8,
     "metadata": {},
     "output_type": "execute_result"
    }
   ],
   "source": [
    "# Objective Function ##############\n",
    "def objective_func(model):\n",
    "    incomes = [0] * len(prices)\n",
    "    for t in range(len(prices)):\n",
    "        incomes[t] = (model.v_sell[t] - model.v_input_energy[t]) * model.price[t]\n",
    "    return sum(incomes)\n",
    "\n",
    "\n",
    "model.obj = pyomo.Objective(rule=objective_func, sense=pyomo.maximize)\n",
    "solver = pyomo.SolverFactory(\"cbc\")\n",
    "result = solver.solve(model)\n",
    "result\n"
   ]
  },
  {
   "cell_type": "code",
   "execution_count": 9,
   "metadata": {},
   "outputs": [
    {
     "data": {
      "text/plain": [
       "np.float64(750.0)"
      ]
     },
     "execution_count": 9,
     "metadata": {},
     "output_type": "execute_result"
    }
   ],
   "source": [
    "sell_array = np.zeros(len(prices))\n",
    "for t in model.T:\n",
    "    sell_array[t] = model.v_sell[t]()\n",
    "np.sum(sell_array)"
   ]
  },
  {
   "cell_type": "code",
   "execution_count": 10,
   "metadata": {},
   "outputs": [
    {
     "data": {
      "text/plain": [
       "array([500., 500., 350., 350., 450., 300., 150.,   0.,   0.,  50., 150.,\n",
       "         0.])"
      ]
     },
     "execution_count": 10,
     "metadata": {},
     "output_type": "execute_result"
    }
   ],
   "source": [
    "soc_array = np.zeros(len(prices))\n",
    "for t in model.T:\n",
    "    soc_array[t] = model.v_soc[t]()\n",
    "soc_array"
   ]
  },
  {
   "cell_type": "code",
   "execution_count": 11,
   "metadata": {},
   "outputs": [
    {
     "data": {
      "text/plain": [
       "array([  0.,   0.,   0.,   0., 100.,   0.,   0.,   0.,   0.,  50., 100.,\n",
       "         0.])"
      ]
     },
     "execution_count": 11,
     "metadata": {},
     "output_type": "execute_result"
    }
   ],
   "source": [
    "input_energy_array = np.zeros(len(prices))\n",
    "for t in model.T:\n",
    "    input_energy_array[t] = model.v_input_energy[t]()\n",
    "input_energy_array"
   ]
  },
  {
   "cell_type": "code",
   "execution_count": 12,
   "metadata": {},
   "outputs": [
    {
     "data": {
      "text/html": [
       "<div>\n",
       "<style scoped>\n",
       "    .dataframe tbody tr th:only-of-type {\n",
       "        vertical-align: middle;\n",
       "    }\n",
       "\n",
       "    .dataframe tbody tr th {\n",
       "        vertical-align: top;\n",
       "    }\n",
       "\n",
       "    .dataframe thead th {\n",
       "        text-align: right;\n",
       "    }\n",
       "</style>\n",
       "<table border=\"1\" class=\"dataframe\">\n",
       "  <thead>\n",
       "    <tr style=\"text-align: right;\">\n",
       "      <th></th>\n",
       "      <th>price</th>\n",
       "      <th>input_energy</th>\n",
       "      <th>soc</th>\n",
       "      <th>sell</th>\n",
       "    </tr>\n",
       "    <tr>\n",
       "      <th>time</th>\n",
       "      <th></th>\n",
       "      <th></th>\n",
       "      <th></th>\n",
       "      <th></th>\n",
       "    </tr>\n",
       "  </thead>\n",
       "  <tbody>\n",
       "    <tr>\n",
       "      <th>0</th>\n",
       "      <td>0.5</td>\n",
       "      <td>0.0</td>\n",
       "      <td>500.0</td>\n",
       "      <td>0.0</td>\n",
       "    </tr>\n",
       "    <tr>\n",
       "      <th>1</th>\n",
       "      <td>0.6</td>\n",
       "      <td>0.0</td>\n",
       "      <td>500.0</td>\n",
       "      <td>0.0</td>\n",
       "    </tr>\n",
       "    <tr>\n",
       "      <th>2</th>\n",
       "      <td>1.0</td>\n",
       "      <td>0.0</td>\n",
       "      <td>350.0</td>\n",
       "      <td>150.0</td>\n",
       "    </tr>\n",
       "    <tr>\n",
       "      <th>3</th>\n",
       "      <td>1.0</td>\n",
       "      <td>0.0</td>\n",
       "      <td>350.0</td>\n",
       "      <td>0.0</td>\n",
       "    </tr>\n",
       "    <tr>\n",
       "      <th>4</th>\n",
       "      <td>0.9</td>\n",
       "      <td>100.0</td>\n",
       "      <td>450.0</td>\n",
       "      <td>0.0</td>\n",
       "    </tr>\n",
       "    <tr>\n",
       "      <th>5</th>\n",
       "      <td>1.1</td>\n",
       "      <td>0.0</td>\n",
       "      <td>300.0</td>\n",
       "      <td>150.0</td>\n",
       "    </tr>\n",
       "    <tr>\n",
       "      <th>6</th>\n",
       "      <td>1.8</td>\n",
       "      <td>0.0</td>\n",
       "      <td>150.0</td>\n",
       "      <td>150.0</td>\n",
       "    </tr>\n",
       "    <tr>\n",
       "      <th>7</th>\n",
       "      <td>1.5</td>\n",
       "      <td>0.0</td>\n",
       "      <td>0.0</td>\n",
       "      <td>150.0</td>\n",
       "    </tr>\n",
       "    <tr>\n",
       "      <th>8</th>\n",
       "      <td>0.9</td>\n",
       "      <td>0.0</td>\n",
       "      <td>0.0</td>\n",
       "      <td>0.0</td>\n",
       "    </tr>\n",
       "    <tr>\n",
       "      <th>9</th>\n",
       "      <td>0.8</td>\n",
       "      <td>50.0</td>\n",
       "      <td>50.0</td>\n",
       "      <td>0.0</td>\n",
       "    </tr>\n",
       "    <tr>\n",
       "      <th>10</th>\n",
       "      <td>0.7</td>\n",
       "      <td>100.0</td>\n",
       "      <td>150.0</td>\n",
       "      <td>0.0</td>\n",
       "    </tr>\n",
       "    <tr>\n",
       "      <th>11</th>\n",
       "      <td>1.0</td>\n",
       "      <td>0.0</td>\n",
       "      <td>0.0</td>\n",
       "      <td>150.0</td>\n",
       "    </tr>\n",
       "  </tbody>\n",
       "</table>\n",
       "</div>"
      ],
      "text/plain": [
       "      price  input_energy    soc   sell\n",
       "time                                   \n",
       "0       0.5           0.0  500.0    0.0\n",
       "1       0.6           0.0  500.0    0.0\n",
       "2       1.0           0.0  350.0  150.0\n",
       "3       1.0           0.0  350.0    0.0\n",
       "4       0.9         100.0  450.0    0.0\n",
       "5       1.1           0.0  300.0  150.0\n",
       "6       1.8           0.0  150.0  150.0\n",
       "7       1.5           0.0    0.0  150.0\n",
       "8       0.9           0.0    0.0    0.0\n",
       "9       0.8          50.0   50.0    0.0\n",
       "10      0.7         100.0  150.0    0.0\n",
       "11      1.0           0.0    0.0  150.0"
      ]
     },
     "execution_count": 12,
     "metadata": {},
     "output_type": "execute_result"
    }
   ],
   "source": [
    "df[\"soc\"] = soc_array\n",
    "df[\"sell\"] = sell_array\n",
    "df[\"input_energy\"] = input_energy_array\n",
    "df"
   ]
  },
  {
   "cell_type": "code",
   "execution_count": null,
   "metadata": {},
   "outputs": [],
   "source": []
  },
  {
   "cell_type": "code",
   "execution_count": null,
   "metadata": {},
   "outputs": [],
   "source": []
  }
 ],
 "metadata": {
  "kernelspec": {
   "display_name": "venv",
   "language": "python",
   "name": "python3"
  },
  "language_info": {
   "codemirror_mode": {
    "name": "ipython",
    "version": 3
   },
   "file_extension": ".py",
   "mimetype": "text/x-python",
   "name": "python",
   "nbconvert_exporter": "python",
   "pygments_lexer": "ipython3",
   "version": "3.12.6"
  }
 },
 "nbformat": 4,
 "nbformat_minor": 2
}
