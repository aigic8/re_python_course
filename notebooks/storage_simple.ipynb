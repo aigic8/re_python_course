{
 "cells": [
  {
   "cell_type": "code",
   "execution_count": 1,
   "metadata": {},
   "outputs": [],
   "source": [
    "import pyomo.environ as pyomo\n",
    "import matplotlib.pyplot as plt"
   ]
  },
  {
   "cell_type": "code",
   "execution_count": 2,
   "metadata": {},
   "outputs": [],
   "source": [
    "prices = {\n",
    "    0: 0.5,\n",
    "    1: 0.6,\n",
    "    2: 1.0,\n",
    "    3: 1.0,\n",
    "    4: 0.9,\n",
    "    5: 1.1,\n",
    "    6: 1.8,\n",
    "    7: 1.5,\n",
    "    8: 0.9,\n",
    "    9: 0.8,\n",
    "    10: 0.7,\n",
    "    11: 1.0,\n",
    "}\n",
    "\n",
    "input_energy_schedule = {\n",
    "    0: 0.0,\n",
    "    1: 0.0,\n",
    "    2: 0.0,\n",
    "    3: 0.0,\n",
    "    4: 0.3,\n",
    "    5: 0.15,\n",
    "    6: 0.15,\n",
    "    7: 0.05,\n",
    "    8: 0.05,\n",
    "    9: 0.05,\n",
    "    10: 0.0,\n",
    "    11: 0.0,\n",
    "}"
   ]
  },
  {
   "cell_type": "code",
   "execution_count": 3,
   "metadata": {},
   "outputs": [],
   "source": [
    "model = pyomo.ConcreteModel()"
   ]
  },
  {
   "cell_type": "code",
   "execution_count": 4,
   "metadata": {},
   "outputs": [],
   "source": [
    "# Parameters ######################\n",
    "model.T = pyomo.Set(initialize=range(len(prices)))\n",
    "# TODO: use input energy as a parameter\n",
    "model.input_energy = pyomo.Param(model.T, initialize=input_energy_schedule)\n",
    "model.price = pyomo.Param(model.T, initialize=prices)\n",
    "# TODO: change SOC min and max to have a more dynamic system\n",
    "model.soc_init = pyomo.Param(initialize=500.0)\n",
    "model.soc_max = pyomo.Param(initialize=500.0)\n",
    "model.soc_min = pyomo.Param(initialize=500.0)\n",
    "model.sell_max = pyomo.Param(initialize=150.0)"
   ]
  },
  {
   "cell_type": "code",
   "execution_count": 5,
   "metadata": {},
   "outputs": [],
   "source": [
    "# Variables #######################\n",
    "model.v_sell = pyomo.Var(model.T, domain=pyomo.NonNegativeReals)\n",
    "model.v_soc = pyomo.Var(model.T, domain=pyomo.NonNegativeReals)"
   ]
  },
  {
   "cell_type": "code",
   "execution_count": 7,
   "metadata": {},
   "outputs": [
    {
     "name": "stdout",
     "output_type": "stream",
     "text": [
      "WARNING: Implicitly replacing the Component attribute c_sell_max (type=<class\n",
      "'pyomo.core.base.constraint.IndexedConstraint'>) on block unknown with a new\n",
      "Component (type=<class 'pyomo.core.base.constraint.IndexedConstraint'>). This\n",
      "is usually indicative of a modelling error. To avoid this warning, use\n",
      "block.del_component() and block.add_component().\n",
      "WARNING: Implicitly replacing the Component attribute c_soc_max (type=<class\n",
      "'pyomo.core.base.constraint.IndexedConstraint'>) on block unknown with a new\n",
      "Component (type=<class 'pyomo.core.base.constraint.IndexedConstraint'>). This\n",
      "is usually indicative of a modelling error. To avoid this warning, use\n",
      "block.del_component() and block.add_component().\n",
      "WARNING: Implicitly replacing the Component attribute c_soc_min (type=<class\n",
      "'pyomo.core.base.constraint.IndexedConstraint'>) on block unknown with a new\n",
      "Component (type=<class 'pyomo.core.base.constraint.IndexedConstraint'>). This\n",
      "is usually indicative of a modelling error. To avoid this warning, use\n",
      "block.del_component() and block.add_component().\n",
      "WARNING: Implicitly replacing the Component attribute c_energy_equlibrium\n",
      "(type=<class 'pyomo.core.base.constraint.IndexedConstraint'>) on block unknown\n",
      "with a new Component (type=<class\n",
      "'pyomo.core.base.constraint.IndexedConstraint'>). This is usually indicative\n",
      "of a modelling error. To avoid this warning, use block.del_component() and\n",
      "block.add_component().\n"
     ]
    }
   ],
   "source": [
    "# Constraints #####################\n",
    "def sell_max_rule(model, t):\n",
    "    return model.v_sell[t] <= model.sell_max\n",
    "\n",
    "\n",
    "def soc_max_rule(model, t):\n",
    "    return model.v_soc[t] <= model.soc_max\n",
    "\n",
    "\n",
    "def soc_min_rule(model, t):\n",
    "    return model.v_soc[t] >= model.soc_min\n",
    "\n",
    "\n",
    "def energy_equlibrium_rule(model, t):\n",
    "    if t == 0:\n",
    "        return (\n",
    "            model.soc_init + model.input_energy[t] * model.soc_max - model.v_sell[t]\n",
    "            == model.v_soc[t]\n",
    "        )\n",
    "    else:\n",
    "        return (\n",
    "            model.v_soc[t - 1] + model.input_energy[t] * model.soc_max - model.v_sell[t]\n",
    "            == model.v_soc[t]\n",
    "        )\n",
    "\n",
    "\n",
    "model.c_sell_max = pyomo.Constraint(model.T, rule=sell_max_rule)\n",
    "model.c_soc_max = pyomo.Constraint(model.T, rule=soc_max_rule)\n",
    "model.c_soc_min = pyomo.Constraint(model.T, rule=soc_min_rule)\n",
    "model.c_energy_equlibrium = pyomo.Constraint(model.T, rule=energy_equlibrium_rule)"
   ]
  },
  {
   "cell_type": "code",
   "execution_count": null,
   "metadata": {},
   "outputs": [],
   "source": []
  }
 ],
 "metadata": {
  "kernelspec": {
   "display_name": "venv",
   "language": "python",
   "name": "python3"
  },
  "language_info": {
   "codemirror_mode": {
    "name": "ipython",
    "version": 3
   },
   "file_extension": ".py",
   "mimetype": "text/x-python",
   "name": "python",
   "nbconvert_exporter": "python",
   "pygments_lexer": "ipython3",
   "version": "3.13.0"
  }
 },
 "nbformat": 4,
 "nbformat_minor": 2
}
