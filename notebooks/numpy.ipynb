{
 "cells": [
  {
   "cell_type": "markdown",
   "metadata": {},
   "source": [
    "# Numpy Library\n",
    "\n",
    "## Installation\n",
    "\n",
    "```bash\n",
    "pip install numpy\n",
    "```\n",
    "\n",
    "## Usage\n",
    "\n",
    "The most important data type in Numpy, is Numpy **array/matrix**.\n",
    "It can be defined using the following methods:\n"
   ]
  },
  {
   "cell_type": "code",
   "execution_count": 1,
   "metadata": {},
   "outputs": [
    {
     "data": {
      "text/plain": [
       "array([1, 2, 3, 4])"
      ]
     },
     "execution_count": 1,
     "metadata": {},
     "output_type": "execute_result"
    }
   ],
   "source": [
    "import numpy as np\n",
    "\n",
    "# From a current python list\n",
    "py_list = [1, 2, 3, 4]\n",
    "np.array(py_list)"
   ]
  },
  {
   "cell_type": "code",
   "execution_count": 2,
   "metadata": {},
   "outputs": [
    {
     "data": {
      "text/plain": [
       "array([5., 5., 5., 5., 5., 5., 5., 5., 5., 5.])"
      ]
     },
     "execution_count": 2,
     "metadata": {},
     "output_type": "execute_result"
    }
   ],
   "source": [
    "# A list with all the numbers being the same\n",
    "np.ones(10) * 5"
   ]
  },
  {
   "cell_type": "code",
   "execution_count": 15,
   "metadata": {},
   "outputs": [
    {
     "data": {
      "text/plain": [
       "array([1, 2, 3, 4, 5, 6, 7, 8, 9])"
      ]
     },
     "execution_count": 15,
     "metadata": {},
     "output_type": "execute_result"
    }
   ],
   "source": [
    "# a range of numbers (similar to python range function)\n",
    "### start = 1, stop = 10, step = 1\n",
    "### IMPORTANT: stop is EXCLUSIVE like python\n",
    "np.arange(1, 10, 1)"
   ]
  },
  {
   "cell_type": "markdown",
   "metadata": {},
   "source": [
    "### Why NumPy array? What is the difference between NumPy array and python list?\n",
    "\n",
    "Python list, is a general type for many different operations, NumPy is more optimized for calculations.\n",
    "\n",
    "- Different behavior compared to list make it a better option for calculation\n",
    "- Much faster compared to regular python list\n",
    "\n",
    "#### Different Behavior"
   ]
  },
  {
   "cell_type": "code",
   "execution_count": null,
   "metadata": {},
   "outputs": [
    {
     "name": "stdout",
     "output_type": "stream",
     "text": [
      "numpy result: [6 7 8]\n"
     ]
    },
    {
     "ename": "TypeError",
     "evalue": "unsupported operand type(s) for +: 'int' and 'list'",
     "output_type": "error",
     "traceback": [
      "\u001b[1;31m---------------------------------------------------------------------------\u001b[0m",
      "\u001b[1;31mTypeError\u001b[0m                                 Traceback (most recent call last)",
      "Cell \u001b[1;32mIn[18], line 8\u001b[0m\n\u001b[0;32m      5\u001b[0m \u001b[38;5;28mprint\u001b[39m(\u001b[38;5;124mf\u001b[39m\u001b[38;5;124m\"\u001b[39m\u001b[38;5;124mnumpy result: \u001b[39m\u001b[38;5;132;01m{\u001b[39;00mresult\u001b[38;5;132;01m}\u001b[39;00m\u001b[38;5;124m\"\u001b[39m)\n\u001b[0;32m      7\u001b[0m \u001b[38;5;66;03m##### In Python (will generate an error)\u001b[39;00m\n\u001b[1;32m----> 8\u001b[0m \u001b[38;5;241;43m5\u001b[39;49m\u001b[43m \u001b[49m\u001b[38;5;241;43m+\u001b[39;49m\u001b[43m \u001b[49m\u001b[43m[\u001b[49m\u001b[38;5;241;43m1\u001b[39;49m\u001b[43m,\u001b[49m\u001b[43m \u001b[49m\u001b[38;5;241;43m2\u001b[39;49m\u001b[43m,\u001b[49m\u001b[43m \u001b[49m\u001b[38;5;241;43m3\u001b[39;49m\u001b[43m]\u001b[49m\n",
      "\u001b[1;31mTypeError\u001b[0m: unsupported operand type(s) for +: 'int' and 'list'"
     ]
    }
   ],
   "source": [
    "# Adding a number to the list/array\n",
    "\n",
    "##### In Numpy\n",
    "np_res = 5 + np.array([1, 2, 3])\n",
    "print(f\"numpy result: {np_res}\")\n",
    "\n",
    "##### In Python (will generate an error)\n",
    "5 + [1, 2, 3]"
   ]
  },
  {
   "cell_type": "code",
   "execution_count": null,
   "metadata": {},
   "outputs": [
    {
     "name": "stdout",
     "output_type": "stream",
     "text": [
      "numpy result: [ 5 10 15]\n",
      "python result: [1, 2, 3, 1, 2, 3, 1, 2, 3, 1, 2, 3, 1, 2, 3]\n"
     ]
    }
   ],
   "source": [
    "# multiplying the list/array\n",
    "\n",
    "##### In Numpy\n",
    "np_res = 5 * np.array([1, 2, 3])\n",
    "print(f\"numpy result: {np_res}\")\n",
    "\n",
    "##### In Python\n",
    "py_res = 5 * [1, 2, 3]\n",
    "print(f\"python result: {py_res}\")"
   ]
  },
  {
   "cell_type": "markdown",
   "metadata": {},
   "source": [
    "#### Performance Difference\n",
    "The performance is also much better in NumPy."
   ]
  },
  {
   "cell_type": "code",
   "execution_count": null,
   "metadata": {},
   "outputs": [
    {
     "name": "stdout",
     "output_type": "stream",
     "text": [
      "elapsed time for python list (ns): 96381300\n"
     ]
    }
   ],
   "source": [
    "import math\n",
    "import time\n",
    "\n",
    "size = 1000000\n",
    "\n",
    "my_list = []\n",
    "for i in range(1, size):\n",
    "    my_list.append(i)\n",
    "\n",
    "start_time_python_list = time.perf_counter_ns()\n",
    "square_root_list = []\n",
    "for i in my_list:\n",
    "    square_root_list.append(math.sqrt(i))\n",
    "end_time_python_list = time.perf_counter_ns()\n",
    "\n",
    "elapsed_time = end_time_python_list - start_time_python_list\n",
    "print(f\"elapsed time for python list (ns): {elapsed_time}\")"
   ]
  },
  {
   "cell_type": "code",
   "execution_count": null,
   "metadata": {},
   "outputs": [
    {
     "name": "stdout",
     "output_type": "stream",
     "text": [
      "elapsed time for numpy array (ns): 2883000\n"
     ]
    }
   ],
   "source": [
    "my_np_arr = np.arange(size)\n",
    "start_time_np_arr = time.perf_counter_ns()\n",
    "square_root_np = np.sqrt(my_np_arr)\n",
    "end_time_np_arr = time.perf_counter_ns()\n",
    "\n",
    "\n",
    "elapsed_time = end_time_np_arr - start_time_np_arr\n",
    "print(f\"elapsed time for numpy array (ns): {elapsed_time}\")"
   ]
  },
  {
   "cell_type": "code",
   "execution_count": null,
   "metadata": {},
   "outputs": [],
   "source": [
    "np_arr = np.array([1, 2, 3])\n",
    "\n",
    "# Access element with index0\n",
    "single_access = np_arr[0]\n",
    "print(f\"single_access = {single_access}\")\n",
    "# Range access\n",
    "range_access = np_arr[0:2]\n",
    "print(f\"range_access = {range_access}\")\n"
   ]
  }
 ],
 "metadata": {
  "kernelspec": {
   "display_name": "venv",
   "language": "python",
   "name": "python3"
  },
  "language_info": {
   "codemirror_mode": {
    "name": "ipython",
    "version": 3
   },
   "file_extension": ".py",
   "mimetype": "text/x-python",
   "name": "python",
   "nbconvert_exporter": "python",
   "pygments_lexer": "ipython3",
   "version": "3.13.0"
  }
 },
 "nbformat": 4,
 "nbformat_minor": 2
}
